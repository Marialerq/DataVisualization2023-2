{
  "nbformat": 4,
  "nbformat_minor": 0,
  "metadata": {
    "colab": {
      "provenance": [],
      "authorship_tag": "ABX9TyO5b9SUWGT50yUa1CaozXCW",
      "include_colab_link": true
    },
    "kernelspec": {
      "name": "python3",
      "display_name": "Python 3"
    },
    "language_info": {
      "name": "python"
    }
  },
  "cells": [
    {
      "cell_type": "markdown",
      "metadata": {
        "id": "view-in-github",
        "colab_type": "text"
      },
      "source": [
        "<a href=\"https://colab.research.google.com/github/Marialerq/DataVisualization2023-2/blob/main/Untitled0.ipynb\" target=\"_parent\"><img src=\"https://colab.research.google.com/assets/colab-badge.svg\" alt=\"Open In Colab\"/></a>"
      ]
    },
    {
      "cell_type": "markdown",
      "source": [
        "**Slicing**"
      ],
      "metadata": {
        "id": "bL0PKj615d1y"
      }
    },
    {
      "cell_type": "code",
      "source": [
        "#Example\n",
        "u = \"Universidad de la Salle\"\n",
        "print(u)"
      ],
      "metadata": {
        "colab": {
          "base_uri": "https://localhost:8080/"
        },
        "id": "VKIqPHjL5uEJ",
        "outputId": "40c59317-b1fa-485f-bbfe-a8200f724f4a"
      },
      "execution_count": 1,
      "outputs": [
        {
          "output_type": "stream",
          "name": "stdout",
          "text": [
            "Universidad de la Salle\n"
          ]
        }
      ]
    },
    {
      "cell_type": "code",
      "source": [
        "# Slicing\n",
        "print(\"Extrac the first element of u:\", u[0])\n",
        "print(\"The space is also an element:\", u[11])\n",
        "print(\"Extrac the last element of u:\", u[-1])\n",
        "print(\"Extrac the first two element of u:\", u[0:2])\n",
        "print(\"Extrac the last two element of u:\", u[-2:-1]) #npi\n",
        "\n"
      ],
      "metadata": {
        "colab": {
          "base_uri": "https://localhost:8080/"
        },
        "id": "f_U98pok5jLB",
        "outputId": "041919f7-f35b-4ec8-e172-346a4ceff975"
      },
      "execution_count": 20,
      "outputs": [
        {
          "output_type": "stream",
          "name": "stdout",
          "text": [
            "Extrac the first element of u: U\n",
            "The space is also an element:  \n",
            "Extrac the last element of u: e\n",
            "Extrac the first two element of u: Un\n",
            "Extrac the last two element of u: l\n"
          ]
        }
      ]
    },
    {
      "cell_type": "markdown",
      "source": [
        "**Method**"
      ],
      "metadata": {
        "id": "G71vg8mJ7zfy"
      }
    },
    {
      "cell_type": "code",
      "source": [
        "# Lower case pasar todo a minuscula\n",
        "u.lower()"
      ],
      "metadata": {
        "colab": {
          "base_uri": "https://localhost:8080/",
          "height": 35
        },
        "id": "raYEvAp8744x",
        "outputId": "8e5ec6eb-0352-4642-dc4e-91e953e9ba7d"
      },
      "execution_count": 22,
      "outputs": [
        {
          "output_type": "execute_result",
          "data": {
            "text/plain": [
              "'universidad de la salle'"
            ],
            "application/vnd.google.colaboratory.intrinsic+json": {
              "type": "string"
            }
          },
          "metadata": {},
          "execution_count": 22
        }
      ]
    },
    {
      "cell_type": "code",
      "source": [
        "# Upper case\n",
        "u.upper()"
      ],
      "metadata": {
        "colab": {
          "base_uri": "https://localhost:8080/",
          "height": 35
        },
        "id": "Zb4hkOxB8VBZ",
        "outputId": "4b5ba148-461c-4065-e0df-1d247d103f24"
      },
      "execution_count": 23,
      "outputs": [
        {
          "output_type": "execute_result",
          "data": {
            "text/plain": [
              "'UNIVERSIDAD DE LA SALLE'"
            ],
            "application/vnd.google.colaboratory.intrinsic+json": {
              "type": "string"
            }
          },
          "metadata": {},
          "execution_count": 23
        }
      ]
    },
    {
      "cell_type": "code",
      "source": [
        "# Split\n",
        "u.split(\"l\")"
      ],
      "metadata": {
        "colab": {
          "base_uri": "https://localhost:8080/"
        },
        "id": "dppVwwLn8ysl",
        "outputId": "d8a56cc8-251e-4443-9943-555e8837d041"
      },
      "execution_count": 26,
      "outputs": [
        {
          "output_type": "execute_result",
          "data": {
            "text/plain": [
              "['Universidad de ', 'a Sa', '', 'e']"
            ]
          },
          "metadata": {},
          "execution_count": 26
        }
      ]
    },
    {
      "cell_type": "code",
      "source": [
        "u.split()[0]"
      ],
      "metadata": {
        "colab": {
          "base_uri": "https://localhost:8080/",
          "height": 35
        },
        "id": "TmkMU6rd9eym",
        "outputId": "f2a79581-39f3-429e-f59d-887d99aadd91"
      },
      "execution_count": 27,
      "outputs": [
        {
          "output_type": "execute_result",
          "data": {
            "text/plain": [
              "'Universidad'"
            ],
            "application/vnd.google.colaboratory.intrinsic+json": {
              "type": "string"
            }
          },
          "metadata": {},
          "execution_count": 27
        }
      ]
    }
  ]
}