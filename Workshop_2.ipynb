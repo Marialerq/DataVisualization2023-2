{
  "nbformat": 4,
  "nbformat_minor": 0,
  "metadata": {
    "colab": {
      "provenance": [],
      "include_colab_link": true
    },
    "kernelspec": {
      "name": "python3",
      "display_name": "Python 3"
    },
    "language_info": {
      "name": "python"
    }
  },
  "cells": [
    {
      "cell_type": "markdown",
      "metadata": {
        "id": "view-in-github",
        "colab_type": "text"
      },
      "source": [
        "<a href=\"https://colab.research.google.com/github/Marialerq/DataVisualization2023-2/blob/main/Workshop_2.ipynb\" target=\"_parent\"><img src=\"https://colab.research.google.com/assets/colab-badge.svg\" alt=\"Open In Colab\"/></a>"
      ]
    },
    {
      "cell_type": "markdown",
      "source": [
        "<h1 align = \"center\">\n",
        "<strong> Universidad de La Salle </strong>\n",
        "</h1>\n",
        "\n",
        "<h1 align = \"center\">\n",
        "<strong> Finance and International Commerce Program </strong>\n",
        "</h1>\n",
        "\n",
        "<h1 align = \"center\">\n",
        "<strong> Data Visualization - Workshop 2 </strong>\n",
        "</h1>\n"
      ],
      "metadata": {
        "id": "BJolccUZSw9G"
      }
    },
    {
      "cell_type": "markdown",
      "source": [
        "# **Instructions**\n",
        "\n",
        "1. Please read carefully the document. Ask all the questions you may have.\n",
        "2. Save this file in your Google Drive.\n",
        "3. DO NOT alter any cell unless it specifically ask you to do it.\n",
        "4. You will have **two hours** (until 11am) maximum to finish and deliver this workshop.\n",
        "5. You can use any help you want: your notes, your codes, internet, classmates.\n",
        "6. Nevertheless, the workshop must be presented individually.\n",
        "7. Once you have finish, save a copy in your GitHub class repository.\n",
        "8. The deliver process is as follows:\n",
        "    \n",
        "    8.1. Via email you will send the link to the GitHub location.\n",
        "    \n",
        "    8.2. In the same mail, just for safety, you will attach a copy of your `.ipynb` file.\n",
        "    \n",
        "    8.3. The email must have the subject: \"W2 DV\".   "
      ],
      "metadata": {
        "id": "pLRc5RAyWsre"
      }
    },
    {
      "cell_type": "markdown",
      "source": [
        "# **To keep in mind**\n",
        "\n",
        "* The excercises propouse are intended to **push** you a little futher in your Pyton skills.\n",
        "* This means that there are going to be exercises above the level seen in class.\n",
        "* The idea is to incentive your creative thinking and solving problem skills.\n",
        "* As always there several ways to do the excersice. But in this case, I ask you to use only the tools we learned.\n",
        "* I ask you to trust me. Give your best effort. Grades do not matter here."
      ],
      "metadata": {
        "id": "4QKdNKujZEbk"
      }
    },
    {
      "cell_type": "markdown",
      "source": [
        "María Alejandra Rodriguez Quintero (63192032)"
      ],
      "metadata": {
        "id": "v6g9NRi_rSfZ"
      }
    },
    {
      "cell_type": "markdown",
      "source": [
        "# **Exercise**\n",
        "\n",
        "**Roulette!**\n",
        "\n",
        "Let's simulate a casino game.\n",
        "Specifically, a single-zero (french) roulette.\n",
        "\n",
        "This game consists on rolling a ball over a wheel with number pockets.\n",
        "\n",
        "[Game](https://image.shutterstock.com/image-illustration/casino-roulette-wheel-chips-on-600w-1288790665.jpg)\n",
        "\n",
        "There are several ways to bet on this game, you have to code a few."
      ],
      "metadata": {
        "id": "2kRoSKUmaGl9"
      }
    },
    {
      "cell_type": "code",
      "source": [
        "import numpy as np"
      ],
      "metadata": {
        "id": "8lMuVMe0iwhw"
      },
      "execution_count": 37,
      "outputs": []
    },
    {
      "cell_type": "markdown",
      "source": [
        "## Ex 1 - Number Bet\n",
        "\n",
        "You can bet on any number between 0 and 36.\n",
        "You win if the result is the number you bet on.\n",
        "In any other case, you lose.\n",
        "\n",
        "Write the appropiate the code to reflect this process.\n",
        "\n",
        "The result must show the bet made, the result obtained and if you win or lose."
      ],
      "metadata": {
        "id": "PYIRNu3imJ_n"
      }
    },
    {
      "cell_type": "code",
      "execution_count": 38,
      "metadata": {
        "id": "9TaC9734lQMI",
        "colab": {
          "base_uri": "https://localhost:8080/"
        },
        "outputId": "62dde12f-8fdb-435b-f97c-d426882641da"
      },
      "outputs": [
        {
          "output_type": "stream",
          "name": "stdout",
          "text": [
            "Your bet number is: 7\n",
            "The number of the roulette was: 4\n",
            "You lose\n"
          ]
        }
      ],
      "source": [
        "# Answ. Ex 1\n",
        "# (write your code below)\n",
        "\n",
        "# Choose a number between 0 - 36\n",
        "\n",
        "nb = 7\n",
        "n = np.random.randint(low = 0, high = 37)\n",
        "print(\"Your bet number is:\", nb,)\n",
        "print(\"The number of the roulette was:\",n)\n",
        "if n == nb:\n",
        "      print(\"You win\")\n",
        "else:\n",
        "      print(\"You lose\")\n"
      ]
    },
    {
      "cell_type": "markdown",
      "source": [
        "## Ex 2 - Color Bet\n",
        "\n",
        "Each color has an associated color. Zero is neutral.\n",
        "\n",
        "And the rest of the numbers vary between black and red (see the previous image).\n",
        "\n",
        "Write the appropiate code to simulate a random round of Roulette using only the color bet (black or white).\n",
        "\n",
        "The result must show the bet made, the result obtained and if you win or lose.\n",
        "\n",
        "*Tip: first define when you lose and when you win.*"
      ],
      "metadata": {
        "id": "LAdWe8iEaL7B"
      }
    },
    {
      "cell_type": "code",
      "execution_count": 39,
      "metadata": {
        "id": "rw792kISSt3n",
        "colab": {
          "base_uri": "https://localhost:8080/"
        },
        "outputId": "5f892af0-2fb2-406d-8d62-a3588743ce73"
      },
      "outputs": [
        {
          "output_type": "stream",
          "name": "stdout",
          "text": [
            "Your bet color is: Red\n",
            "The color of the roulette was\n",
            "Black\n",
            "You lose\n"
          ]
        }
      ],
      "source": [
        "# Answ. Ex 2\n",
        "# (write your code below)\n",
        "\n",
        "ni = \"Red\"\n",
        "print(\"Your bet color is:\", ni)\n",
        "d=np.random.rand()\n",
        "print(\"The color of the roulette was\")\n",
        "if d < 0.6:\n",
        "  print(\"Red\")\n",
        "  a= -1\n",
        "elif 0.49 < d < 0.98:\n",
        "  print(\"Black\")\n",
        "  a=1\n",
        "else:\n",
        "  print(\"Green\")\n",
        "  a=0\n",
        "\n",
        "if ni == 'Black' and a == 1:\n",
        "  print('You win')\n",
        "elif ni == 'Red' and a == -1:\n",
        "  print('You win')\n",
        "else:\n",
        "  print('You lose')\n"
      ]
    },
    {
      "cell_type": "markdown",
      "source": [
        "## Ex 3 - Dozens Bet\n",
        "\n",
        "Given the 3 groups:\n",
        "\n",
        "A -> numbers between 1 and 12.\n",
        "B -> numbers between 13 and 24.\n",
        "C -> numbers between 25 and 36.\n",
        "\n",
        "Write the appropiate code to print the result of betting exclusively with dozens.\n",
        "\n",
        "The result must show the bet made, the result obtained and if you win or lose.\n",
        "\n",
        "*Tip: Note that zero is not in the groups but it is a possible result.*"
      ],
      "metadata": {
        "id": "YFsGiwcNfgzP"
      }
    },
    {
      "cell_type": "code",
      "source": [
        "# Answ. Ex 3\n",
        "# (write your code below)\n",
        "\n",
        "# A --> (Numbers between 1 and 12)\n",
        "# B --> (Numbers between 13 and 24)\n",
        "# C --> (Numbers between 25 and 36)\n",
        "\n",
        "ar = \"B\"\n",
        "print(\"Your bet obtion is:\",ar)\n",
        "da=np.random.randint(low = 1, high=37)\n",
        "print(\"The option of the roulette was:\")\n",
        "if 1 < da < 12:\n",
        "  print(\"A\")\n",
        "  b=-1\n",
        "elif  13 < da < 24:\n",
        "    print(\"B\")\n",
        "    b=1\n",
        "else:\n",
        "    print(\"C\")\n",
        "    b=0\n",
        "\n",
        "if ar == \"A\" and b == -1:\n",
        "  print(\"You win\")\n",
        "elif ar == \"B\" and b == 1:\n",
        "    print(\"You win\")\n",
        "else:\n",
        "    print(\"You lose\")\n",
        "\n",
        "\n",
        "\n"
      ],
      "metadata": {
        "id": "Dwdsh30Ti3vl",
        "colab": {
          "base_uri": "https://localhost:8080/"
        },
        "outputId": "132461d6-36d7-472a-f3fd-4cce155e3f91"
      },
      "execution_count": 40,
      "outputs": [
        {
          "output_type": "stream",
          "name": "stdout",
          "text": [
            "Your bet obtion is: B\n",
            "The option of the roulette was:\n",
            "A\n",
            "You lose\n"
          ]
        }
      ]
    },
    {
      "cell_type": "markdown",
      "source": [
        "## Ex 4 - Putting everything together\n",
        "\n",
        "Write the code that simulate a random game of Roulette where the person can bet on: Number, Color, Dozen or any combination she or he wants.\n",
        "\n",
        "The result must show the bet made, the result obtained and if you win or lose."
      ],
      "metadata": {
        "id": "RSyiV1UPlVcJ"
      }
    },
    {
      "cell_type": "code",
      "source": [
        "# Answ. Ex 4\n",
        "# (write your code below)\n",
        "\n",
        "import random\n",
        "\n",
        "# Define the betting options\n",
        "number_bets = [1, 2, 3, 4, 5, 6, 7, 8, 9, 10, 11, 12, 13, 14, 15, 16, 17, 18, 19, 20, 21, 22, 23, 24, 25, 26, 27, 28, 29, 30, 31, 32, 33, 34, 35, 36]\n",
        "color_bets = [\"red\", \"black\"]\n",
        "dozen_bets = [\"1-12\", \"13-24\", \"25-36\"]\n",
        "\n",
        "# Get the user's bet\n",
        "bet = input(\"Enter your bet: \")\n",
        "\n",
        "# Simulate the roulette spin\n",
        "roulette_result = random.choice(number_bets)\n",
        "\n",
        "# Determine the outcome of the bet\n",
        "if bet in number_bets and bet == roulette_result:\n",
        "    outcome = \"You win\"\n",
        "elif bet in color_bets and bet == color_bets[roulette_result % 2]:\n",
        "    outcome = \"You win\"\n",
        "if bet == \"1-12\" and roulette_result in range(1, 13):\n",
        "    outcome = \"You win\"\n",
        "elif bet == \"13-24\" and roulette_result in range(13, 25):\n",
        "    outcome = \"You win\"\n",
        "elif bet == \"25-36\" and roulette_result in range(25, 37):\n",
        "    outcome = \"You win\"\n",
        "else:\n",
        "    outcome = \"You lose\"\n",
        "\n",
        "# Display the bet, result, and outcome\n",
        "print(f\"Bet: {bet}\")\n",
        "print(f\"Result: {roulette_result}\")\n",
        "print(f\"Outcome: {outcome}\")\n",
        "\n"
      ],
      "metadata": {
        "id": "FQU_vc_5sse0",
        "colab": {
          "base_uri": "https://localhost:8080/"
        },
        "outputId": "87970e37-3546-4bdc-c059-af9e13a57243"
      },
      "execution_count": 42,
      "outputs": [
        {
          "output_type": "stream",
          "name": "stdout",
          "text": [
            "Enter your bet: 5\n",
            "Bet: 5\n",
            "Result: 33\n",
            "Outcome: You lose\n"
          ]
        }
      ]
    }
  ]
}