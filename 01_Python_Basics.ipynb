{
  "nbformat": 4,
  "nbformat_minor": 0,
  "metadata": {
    "colab": {
      "provenance": [],
      "authorship_tag": "ABX9TyOii7qsRnpFacSy6mIyCTNR",
      "include_colab_link": true
    },
    "kernelspec": {
      "name": "python3",
      "display_name": "Python 3"
    },
    "language_info": {
      "name": "python"
    }
  },
  "cells": [
    {
      "cell_type": "markdown",
      "metadata": {
        "id": "view-in-github",
        "colab_type": "text"
      },
      "source": [
        "<a href=\"https://colab.research.google.com/github/Marialerq/DataVisualization2023-2/blob/main/01_Python_Basics.ipynb\" target=\"_parent\"><img src=\"https://colab.research.google.com/assets/colab-badge.svg\" alt=\"Open In Colab\"/></a>"
      ]
    },
    {
      "cell_type": "markdown",
      "source": [
        "# **1. Getting started**"
      ],
      "metadata": {
        "id": "C6qNiQvmtut_"
      }
    },
    {
      "cell_type": "markdown",
      "source": [
        "## 1.1 Python as a calculator\n"
      ],
      "metadata": {
        "id": "b0jJtgtlt300"
      }
    },
    {
      "cell_type": "code",
      "source": [
        "# Addition\n",
        "2+3"
      ],
      "metadata": {
        "colab": {
          "base_uri": "https://localhost:8080/"
        },
        "id": "2X4fcQp0uOe4",
        "outputId": "1168ad5b-13d4-4761-8c19-1719f584e3bb"
      },
      "execution_count": null,
      "outputs": [
        {
          "output_type": "execute_result",
          "data": {
            "text/plain": [
              "5"
            ]
          },
          "metadata": {},
          "execution_count": 2
        }
      ]
    },
    {
      "cell_type": "code",
      "source": [
        "# Substraction\n",
        "15 - 7"
      ],
      "metadata": {
        "colab": {
          "base_uri": "https://localhost:8080/"
        },
        "id": "xcIC-u76u2J8",
        "outputId": "f8579094-fc69-4e86-9441-2d768af0a54a"
      },
      "execution_count": null,
      "outputs": [
        {
          "output_type": "execute_result",
          "data": {
            "text/plain": [
              "8"
            ]
          },
          "metadata": {},
          "execution_count": 3
        }
      ]
    },
    {
      "cell_type": "code",
      "source": [
        "# Multiplication\n",
        "63 * 13"
      ],
      "metadata": {
        "colab": {
          "base_uri": "https://localhost:8080/"
        },
        "id": "gkwvH3VDu8xN",
        "outputId": "0986bc97-d1b1-424e-c0cc-9f46fb4613d8"
      },
      "execution_count": null,
      "outputs": [
        {
          "output_type": "execute_result",
          "data": {
            "text/plain": [
              "819"
            ]
          },
          "metadata": {},
          "execution_count": 4
        }
      ]
    },
    {
      "cell_type": "code",
      "source": [
        "# Division\n",
        "99 / 43"
      ],
      "metadata": {
        "colab": {
          "base_uri": "https://localhost:8080/"
        },
        "id": "IEU08nWLvELd",
        "outputId": "6dbb493b-12b4-4d0d-e710-74445a9804c8"
      },
      "execution_count": null,
      "outputs": [
        {
          "output_type": "execute_result",
          "data": {
            "text/plain": [
              "2.302325581395349"
            ]
          },
          "metadata": {},
          "execution_count": 5
        }
      ]
    },
    {
      "cell_type": "code",
      "source": [
        "# ???\n",
        "99 // 43"
      ],
      "metadata": {
        "colab": {
          "base_uri": "https://localhost:8080/"
        },
        "id": "_xN8zGOpvQ8s",
        "outputId": "fde940f9-9d07-4f7e-d618-299d716a1685"
      },
      "execution_count": null,
      "outputs": [
        {
          "output_type": "execute_result",
          "data": {
            "text/plain": [
              "2"
            ]
          },
          "metadata": {},
          "execution_count": 8
        }
      ]
    },
    {
      "cell_type": "code",
      "source": [
        "# Exponentials\n",
        "8 ** 4"
      ],
      "metadata": {
        "colab": {
          "base_uri": "https://localhost:8080/"
        },
        "id": "J3-5Sxvtw_Q4",
        "outputId": "43e15e51-72f2-4bd7-e915-dc23e6527f47"
      },
      "execution_count": null,
      "outputs": [
        {
          "output_type": "execute_result",
          "data": {
            "text/plain": [
              "4096"
            ]
          },
          "metadata": {},
          "execution_count": 9
        }
      ]
    },
    {
      "cell_type": "markdown",
      "source": [
        "## 1.2 Parentheses\n"
      ],
      "metadata": {
        "id": "TRdCwHqzxI02"
      }
    },
    {
      "cell_type": "code",
      "source": [
        "7 * (2+3)"
      ],
      "metadata": {
        "colab": {
          "base_uri": "https://localhost:8080/"
        },
        "id": "L3VeoILfxa5R",
        "outputId": "db4da416-b5ee-4031-e89d-13a64205488d"
      },
      "execution_count": null,
      "outputs": [
        {
          "output_type": "execute_result",
          "data": {
            "text/plain": [
              "35"
            ]
          },
          "metadata": {},
          "execution_count": 11
        }
      ]
    },
    {
      "cell_type": "markdown",
      "source": [
        "## 1.3 Integers versus real numbers\n",
        "* Integers dont have decimals in programing we call int\n",
        "* Real numbers have decimals in programing we call float"
      ],
      "metadata": {
        "id": "LhUK6_8Vy8uA"
      }
    },
    {
      "cell_type": "code",
      "source": [
        "print(5)\n",
        "print(type(5))"
      ],
      "metadata": {
        "colab": {
          "base_uri": "https://localhost:8080/"
        },
        "id": "Vb1wfH40zDlK",
        "outputId": "c1f7e53e-4a1d-40d5-98ab-45c113fdcd63"
      },
      "execution_count": null,
      "outputs": [
        {
          "output_type": "stream",
          "name": "stdout",
          "text": [
            "5\n",
            "<class 'int'>\n"
          ]
        }
      ]
    },
    {
      "cell_type": "code",
      "source": [
        "print(5.0)\n",
        "print(type(5.0))"
      ],
      "metadata": {
        "colab": {
          "base_uri": "https://localhost:8080/"
        },
        "id": "sfipta-V0N3p",
        "outputId": "19dc7b80-27b3-4c2a-9d26-0d694b073bea"
      },
      "execution_count": null,
      "outputs": [
        {
          "output_type": "stream",
          "name": "stdout",
          "text": [
            "5.0\n",
            "<class 'float'>\n"
          ]
        }
      ]
    },
    {
      "cell_type": "markdown",
      "source": [
        "# 1.4 Scientific notation\n",
        "\n"
      ],
      "metadata": {
        "id": "Z6cMayQd039s"
      }
    },
    {
      "cell_type": "code",
      "source": [
        "5.0e3"
      ],
      "metadata": {
        "id": "Hc4Ze1mn2-c2",
        "colab": {
          "base_uri": "https://localhost:8080/"
        },
        "outputId": "45a804e0-a8eb-401c-c8ba-2e4461637d15"
      },
      "execution_count": 1,
      "outputs": [
        {
          "output_type": "execute_result",
          "data": {
            "text/plain": [
              "5000.0"
            ]
          },
          "metadata": {},
          "execution_count": 1
        }
      ]
    },
    {
      "cell_type": "code",
      "source": [
        "3.2e2"
      ],
      "metadata": {
        "colab": {
          "base_uri": "https://localhost:8080/"
        },
        "id": "dxHAx1dlris-",
        "outputId": "4a1d8bc6-95aa-4f09-d93e-8711426f2fe5"
      },
      "execution_count": 2,
      "outputs": [
        {
          "output_type": "execute_result",
          "data": {
            "text/plain": [
              "320.0"
            ]
          },
          "metadata": {},
          "execution_count": 2
        }
      ]
    },
    {
      "cell_type": "markdown",
      "source": [
        "# **2. Basic Functions**"
      ],
      "metadata": {
        "id": "3kwtHJEysEEc"
      }
    },
    {
      "cell_type": "markdown",
      "source": [
        "## 2.1 Print"
      ],
      "metadata": {
        "id": "WfDzjvhdsLfv"
      }
    },
    {
      "cell_type": "code",
      "source": [
        "print(15)\n",
        "print(16)"
      ],
      "metadata": {
        "colab": {
          "base_uri": "https://localhost:8080/"
        },
        "id": "iGK-_UtksOn3",
        "outputId": "d57e5c4d-8115-466b-cc7a-b3b6c2d918b9"
      },
      "execution_count": 4,
      "outputs": [
        {
          "output_type": "stream",
          "name": "stdout",
          "text": [
            "15\n",
            "16\n"
          ]
        }
      ]
    },
    {
      "cell_type": "code",
      "source": [
        "# Print different elements in the same line\n",
        "print(9,8,2023)"
      ],
      "metadata": {
        "colab": {
          "base_uri": "https://localhost:8080/"
        },
        "id": "sBKSG1OUs5oP",
        "outputId": "ab1475c2-0c63-42d2-9d3d-a4f83e40000a"
      },
      "execution_count": 5,
      "outputs": [
        {
          "output_type": "stream",
          "name": "stdout",
          "text": [
            "9 8 2023\n"
          ]
        }
      ]
    },
    {
      "cell_type": "code",
      "source": [
        "# ???\n",
        "for i in range(1,11): print(i)"
      ],
      "metadata": {
        "colab": {
          "base_uri": "https://localhost:8080/"
        },
        "id": "osC9du_ottls",
        "outputId": "64669462-c4dc-41dd-95b6-cac3567f6c83"
      },
      "execution_count": 8,
      "outputs": [
        {
          "output_type": "stream",
          "name": "stdout",
          "text": [
            "1\n",
            "2\n",
            "3\n",
            "4\n",
            "5\n",
            "6\n",
            "7\n",
            "8\n",
            "9\n",
            "10\n"
          ]
        }
      ]
    },
    {
      "cell_type": "code",
      "source": [
        "# With a step, in this case 3\n",
        "for i in range(1,10,3): print(i)"
      ],
      "metadata": {
        "colab": {
          "base_uri": "https://localhost:8080/"
        },
        "id": "XOn695A7vqhy",
        "outputId": "d3b570b9-f2ca-4488-9c46-ef5b569e8c80"
      },
      "execution_count": 10,
      "outputs": [
        {
          "output_type": "stream",
          "name": "stdout",
          "text": [
            "1\n",
            "4\n",
            "7\n"
          ]
        }
      ]
    },
    {
      "cell_type": "code",
      "source": [
        "print"
      ],
      "metadata": {
        "id": "vrr06TPSuUaV"
      },
      "execution_count": null,
      "outputs": []
    },
    {
      "cell_type": "markdown",
      "source": [
        "* for i in range(1,11,**55)**: print(i) si pongo ese tercer numero es como si fuera los pasos\n",
        "* En el texto \\t da el espacio de tabulación\n",
        "* \\n hace una nueva linea"
      ],
      "metadata": {
        "id": "TNiJ6SLGvU1A"
      }
    },
    {
      "cell_type": "code",
      "source": [
        "# With text\n",
        "print(\"Alejandra\")\n",
        "print(\"First names:\", \"María Alejandra\")\n",
        "print(\"First names:\\t\", \"María Alejandra\")\n",
        "print(\"First names:\\n\", \"María Alejandra\")"
      ],
      "metadata": {
        "colab": {
          "base_uri": "https://localhost:8080/"
        },
        "id": "V5Q531zXv4At",
        "outputId": "b4632e18-8f30-46f5-8fce-935ed323859f"
      },
      "execution_count": 17,
      "outputs": [
        {
          "output_type": "stream",
          "name": "stdout",
          "text": [
            "Alejandra\n",
            "First names: María Alejandra\n",
            "First names:\t María Alejandra\n",
            "First names:\n",
            " María Alejandra\n"
          ]
        }
      ]
    },
    {
      "cell_type": "code",
      "source": [
        "# Text and numbers\n",
        "print(\"My favorite number is\", 11)"
      ],
      "metadata": {
        "colab": {
          "base_uri": "https://localhost:8080/"
        },
        "id": "v6YNbfdCxSJn",
        "outputId": "b0abc9c6-df45-4d8f-a722-dc6d110a8f78"
      },
      "execution_count": 18,
      "outputs": [
        {
          "output_type": "stream",
          "name": "stdout",
          "text": [
            "My favorite number is 11\n"
          ]
        }
      ]
    },
    {
      "cell_type": "markdown",
      "source": [
        "## **2.2 Round**\n",
        "\n",
        "Just with numbers\n",
        "Si se usa con decimales"
      ],
      "metadata": {
        "id": "QsDaoGqgxeUL"
      }
    },
    {
      "cell_type": "code",
      "source": [
        "round(5.7289,2)"
      ],
      "metadata": {
        "colab": {
          "base_uri": "https://localhost:8080/"
        },
        "id": "TLTtoN6SxiJU",
        "outputId": "3a56a400-3fc3-46ee-cf13-11e3fd239113"
      },
      "execution_count": 19,
      "outputs": [
        {
          "output_type": "execute_result",
          "data": {
            "text/plain": [
              "5.73"
            ]
          },
          "metadata": {},
          "execution_count": 19
        }
      ]
    },
    {
      "cell_type": "code",
      "source": [
        "# Exercise 1\n",
        "## Aproximate the number 15.4795612358\n",
        "## to 1,2,3,..., decimals and print the results"
      ],
      "metadata": {
        "id": "6fgX6QuJxw31"
      },
      "execution_count": null,
      "outputs": []
    },
    {
      "cell_type": "code",
      "source": [
        "print(round(15.4795612358,1))\n",
        "for i in range(0,11):\n",
        "  print(\"Approx.with:\",i, \"decimals\",round(15.4795612358,i))"
      ],
      "metadata": {
        "colab": {
          "base_uri": "https://localhost:8080/"
        },
        "id": "oezAThyD1eAd",
        "outputId": "f708a370-aff9-435c-deba-96bb489db508"
      },
      "execution_count": 54,
      "outputs": [
        {
          "output_type": "stream",
          "name": "stdout",
          "text": [
            "15.5\n",
            "Approx.wiht: 0 decimals 15.0\n",
            "Approx.wiht: 1 decimals 15.5\n",
            "Approx.wiht: 2 decimals 15.48\n",
            "Approx.wiht: 3 decimals 15.48\n",
            "Approx.wiht: 4 decimals 15.4796\n",
            "Approx.wiht: 5 decimals 15.47956\n",
            "Approx.wiht: 6 decimals 15.479561\n",
            "Approx.wiht: 7 decimals 15.4795612\n",
            "Approx.wiht: 8 decimals 15.47956124\n",
            "Approx.wiht: 9 decimals 15.479561236\n",
            "Approx.wiht: 10 decimals 15.4795612358\n"
          ]
        }
      ]
    },
    {
      "cell_type": "code",
      "source": [
        "# Exercise 2\n",
        "# Find and print the 100 first multiples of 7\n",
        ""
      ],
      "metadata": {
        "id": "wl2gRuwp3H2Q"
      },
      "execution_count": null,
      "outputs": []
    },
    {
      "cell_type": "code",
      "source": [
        "for i in range(1,101):\n",
        "  print(\"The multiple in position\",i,i*7)\n"
      ],
      "metadata": {
        "colab": {
          "base_uri": "https://localhost:8080/"
        },
        "id": "PFAYtcVi3wcR",
        "outputId": "9c081754-3a25-43b6-dfce-8dbca0d8e750"
      },
      "execution_count": 61,
      "outputs": [
        {
          "output_type": "stream",
          "name": "stdout",
          "text": [
            "The multiple in position 1 7\n",
            "The multiple in position 2 14\n",
            "The multiple in position 3 21\n",
            "The multiple in position 4 28\n",
            "The multiple in position 5 35\n",
            "The multiple in position 6 42\n",
            "The multiple in position 7 49\n",
            "The multiple in position 8 56\n",
            "The multiple in position 9 63\n",
            "The multiple in position 10 70\n",
            "The multiple in position 11 77\n",
            "The multiple in position 12 84\n",
            "The multiple in position 13 91\n",
            "The multiple in position 14 98\n",
            "The multiple in position 15 105\n",
            "The multiple in position 16 112\n",
            "The multiple in position 17 119\n",
            "The multiple in position 18 126\n",
            "The multiple in position 19 133\n",
            "The multiple in position 20 140\n",
            "The multiple in position 21 147\n",
            "The multiple in position 22 154\n",
            "The multiple in position 23 161\n",
            "The multiple in position 24 168\n",
            "The multiple in position 25 175\n",
            "The multiple in position 26 182\n",
            "The multiple in position 27 189\n",
            "The multiple in position 28 196\n",
            "The multiple in position 29 203\n",
            "The multiple in position 30 210\n",
            "The multiple in position 31 217\n",
            "The multiple in position 32 224\n",
            "The multiple in position 33 231\n",
            "The multiple in position 34 238\n",
            "The multiple in position 35 245\n",
            "The multiple in position 36 252\n",
            "The multiple in position 37 259\n",
            "The multiple in position 38 266\n",
            "The multiple in position 39 273\n",
            "The multiple in position 40 280\n",
            "The multiple in position 41 287\n",
            "The multiple in position 42 294\n",
            "The multiple in position 43 301\n",
            "The multiple in position 44 308\n",
            "The multiple in position 45 315\n",
            "The multiple in position 46 322\n",
            "The multiple in position 47 329\n",
            "The multiple in position 48 336\n",
            "The multiple in position 49 343\n",
            "The multiple in position 50 350\n",
            "The multiple in position 51 357\n",
            "The multiple in position 52 364\n",
            "The multiple in position 53 371\n",
            "The multiple in position 54 378\n",
            "The multiple in position 55 385\n",
            "The multiple in position 56 392\n",
            "The multiple in position 57 399\n",
            "The multiple in position 58 406\n",
            "The multiple in position 59 413\n",
            "The multiple in position 60 420\n",
            "The multiple in position 61 427\n",
            "The multiple in position 62 434\n",
            "The multiple in position 63 441\n",
            "The multiple in position 64 448\n",
            "The multiple in position 65 455\n",
            "The multiple in position 66 462\n",
            "The multiple in position 67 469\n",
            "The multiple in position 68 476\n",
            "The multiple in position 69 483\n",
            "The multiple in position 70 490\n",
            "The multiple in position 71 497\n",
            "The multiple in position 72 504\n",
            "The multiple in position 73 511\n",
            "The multiple in position 74 518\n",
            "The multiple in position 75 525\n",
            "The multiple in position 76 532\n",
            "The multiple in position 77 539\n",
            "The multiple in position 78 546\n",
            "The multiple in position 79 553\n",
            "The multiple in position 80 560\n",
            "The multiple in position 81 567\n",
            "The multiple in position 82 574\n",
            "The multiple in position 83 581\n",
            "The multiple in position 84 588\n",
            "The multiple in position 85 595\n",
            "The multiple in position 86 602\n",
            "The multiple in position 87 609\n",
            "The multiple in position 88 616\n",
            "The multiple in position 89 623\n",
            "The multiple in position 90 630\n",
            "The multiple in position 91 637\n",
            "The multiple in position 92 644\n",
            "The multiple in position 93 651\n",
            "The multiple in position 94 658\n",
            "The multiple in position 95 665\n",
            "The multiple in position 96 672\n",
            "The multiple in position 97 679\n",
            "The multiple in position 98 686\n",
            "The multiple in position 99 693\n",
            "The multiple in position 100 700\n"
          ]
        }
      ]
    },
    {
      "cell_type": "code",
      "source": [
        "# Exercise 3\n",
        "# Calculate and print the multiplication table for the numbers 3,4,5,6"
      ],
      "metadata": {
        "id": "GF3ggK395hku"
      },
      "execution_count": null,
      "outputs": []
    },
    {
      "cell_type": "code",
      "source": [
        "  print(\"Multiplication table for\",3)\n",
        "for i in range(1,10): print(3, \"X\",i, \"=\", 3*1)\n",
        "\n"
      ],
      "metadata": {
        "colab": {
          "base_uri": "https://localhost:8080/"
        },
        "id": "5xRhMgGA5z7R",
        "outputId": "d87e820c-0bcb-4c96-f62e-e9db86230961"
      },
      "execution_count": 70,
      "outputs": [
        {
          "output_type": "stream",
          "name": "stdout",
          "text": [
            "Multiplication table for 3\n",
            "3 X 1 = 3\n",
            "3 X 2 = 3\n",
            "3 X 3 = 3\n",
            "3 X 4 = 3\n",
            "3 X 5 = 3\n",
            "3 X 6 = 3\n",
            "3 X 7 = 3\n",
            "3 X 8 = 3\n",
            "3 X 9 = 3\n"
          ]
        }
      ]
    },
    {
      "cell_type": "code",
      "source": [
        "for j in range (3,7):\n",
        "  print(\"Multiplication table of\", j)\n",
        "  for j in range (1,10):\n",
        "    print(j,\"X\",i,\"=\",j*i)"
      ],
      "metadata": {
        "colab": {
          "base_uri": "https://localhost:8080/"
        },
        "id": "9qrS-JgA7z6v",
        "outputId": "6e963775-0ef0-4718-9d81-50badafe9c64"
      },
      "execution_count": 71,
      "outputs": [
        {
          "output_type": "stream",
          "name": "stdout",
          "text": [
            "Multiplication table of 3\n",
            "1 X 9 = 9\n",
            "2 X 9 = 18\n",
            "3 X 9 = 27\n",
            "4 X 9 = 36\n",
            "5 X 9 = 45\n",
            "6 X 9 = 54\n",
            "7 X 9 = 63\n",
            "8 X 9 = 72\n",
            "9 X 9 = 81\n",
            "Multiplication table of 4\n",
            "1 X 9 = 9\n",
            "2 X 9 = 18\n",
            "3 X 9 = 27\n",
            "4 X 9 = 36\n",
            "5 X 9 = 45\n",
            "6 X 9 = 54\n",
            "7 X 9 = 63\n",
            "8 X 9 = 72\n",
            "9 X 9 = 81\n",
            "Multiplication table of 5\n",
            "1 X 9 = 9\n",
            "2 X 9 = 18\n",
            "3 X 9 = 27\n",
            "4 X 9 = 36\n",
            "5 X 9 = 45\n",
            "6 X 9 = 54\n",
            "7 X 9 = 63\n",
            "8 X 9 = 72\n",
            "9 X 9 = 81\n",
            "Multiplication table of 6\n",
            "1 X 9 = 9\n",
            "2 X 9 = 18\n",
            "3 X 9 = 27\n",
            "4 X 9 = 36\n",
            "5 X 9 = 45\n",
            "6 X 9 = 54\n",
            "7 X 9 = 63\n",
            "8 X 9 = 72\n",
            "9 X 9 = 81\n"
          ]
        }
      ]
    }
  ]
}