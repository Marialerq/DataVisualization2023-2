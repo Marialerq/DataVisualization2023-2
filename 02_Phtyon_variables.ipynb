{
  "nbformat": 4,
  "nbformat_minor": 0,
  "metadata": {
    "colab": {
      "provenance": [],
      "authorship_tag": "ABX9TyO4+XNoAJV76gQOCo9cf1yG",
      "include_colab_link": true
    },
    "kernelspec": {
      "name": "python3",
      "display_name": "Python 3"
    },
    "language_info": {
      "name": "python"
    }
  },
  "cells": [
    {
      "cell_type": "markdown",
      "metadata": {
        "id": "view-in-github",
        "colab_type": "text"
      },
      "source": [
        "<a href=\"https://colab.research.google.com/github/Marialerq/DataVisualization2023-2/blob/main/02_Phtyon_variables.ipynb\" target=\"_parent\"><img src=\"https://colab.research.google.com/assets/colab-badge.svg\" alt=\"Open In Colab\"/></a>"
      ]
    },
    {
      "cell_type": "markdown",
      "source": [
        "#**1. What is variable?**\n",
        "It is a *container* You can save *stuff* in there"
      ],
      "metadata": {
        "id": "OoNQNGT7s0I9"
      }
    },
    {
      "cell_type": "code",
      "source": [
        "a = 10"
      ],
      "metadata": {
        "id": "jFRHlyo_tq3F"
      },
      "execution_count": null,
      "outputs": []
    },
    {
      "cell_type": "code",
      "source": [
        "print(a + 1)\n",
        "print(a*a)\n",
        "print(a/2)"
      ],
      "metadata": {
        "colab": {
          "base_uri": "https://localhost:8080/"
        },
        "id": "d4jGybNluQpw",
        "outputId": "6d01f416-6dff-417b-9f3c-e96ee7421fc7"
      },
      "execution_count": null,
      "outputs": [
        {
          "output_type": "stream",
          "name": "stdout",
          "text": [
            "11\n",
            "100\n",
            "5.0\n"
          ]
        }
      ]
    },
    {
      "cell_type": "code",
      "source": [
        "#Example\n",
        "x = y = z = 100"
      ],
      "metadata": {
        "id": "K_oAOPsIu_cY"
      },
      "execution_count": null,
      "outputs": []
    },
    {
      "cell_type": "markdown",
      "source": [
        "# **2. Delete and clear**"
      ],
      "metadata": {
        "id": "9re0OzpuvPw3"
      }
    },
    {
      "cell_type": "markdown",
      "source": [
        "Si quiero borrar una variable solo del y la variable y si quiere borrar dos del variable, variable"
      ],
      "metadata": {
        "id": "9CI9gIvwvqzH"
      }
    },
    {
      "cell_type": "code",
      "source": [
        "#Deletate\n",
        "del s"
      ],
      "metadata": {
        "id": "XESnAmMavWtu"
      },
      "execution_count": null,
      "outputs": []
    },
    {
      "cell_type": "code",
      "source": [
        "# Clear\n",
        "# be careful you delete everything\n",
        "%reset"
      ],
      "metadata": {
        "colab": {
          "base_uri": "https://localhost:8080/"
        },
        "id": "3SxkU3DOv3Rp",
        "outputId": "f772b3d8-790d-46e1-d3e2-9b622fa8f224"
      },
      "execution_count": null,
      "outputs": [
        {
          "name": "stdout",
          "output_type": "stream",
          "text": [
            "Once deleted, variables cannot be recovered. Proceed (y/[n])? y\n"
          ]
        }
      ]
    },
    {
      "cell_type": "code",
      "source": [
        "# Exercise 1\n",
        "## Aproximate the number 15.4795612358\n",
        "## to 1,2,3,..., decimals and print the results\n",
        "\n",
        "v = 15.4795612358   #the number to approx.\n",
        "a = 0     #the initial approx\n",
        "z = 11      # (z-1) is the last approx\n",
        "\n",
        "for i in range(a,z):\n",
        "  print(\"Approx. with:\",i,\"decimal\",round(v,i))\n",
        "\n"
      ],
      "metadata": {
        "colab": {
          "base_uri": "https://localhost:8080/"
        },
        "id": "Vhsy2OwmxFjW",
        "outputId": "947699c4-0a98-4cc3-a28b-86099d4d6499"
      },
      "execution_count": null,
      "outputs": [
        {
          "output_type": "stream",
          "name": "stdout",
          "text": [
            "Approx. with: 0 decimal 15.0\n",
            "Approx. with: 1 decimal 15.5\n",
            "Approx. with: 2 decimal 15.48\n",
            "Approx. with: 3 decimal 15.48\n",
            "Approx. with: 4 decimal 15.4796\n",
            "Approx. with: 5 decimal 15.47956\n",
            "Approx. with: 6 decimal 15.479561\n",
            "Approx. with: 7 decimal 15.4795612\n",
            "Approx. with: 8 decimal 15.47956124\n",
            "Approx. with: 9 decimal 15.479561236\n",
            "Approx. with: 10 decimal 15.4795612358\n"
          ]
        }
      ]
    },
    {
      "cell_type": "code",
      "source": [
        "# Exercise 2\n",
        "# Find and print the 10 first multiples of 7 using variables\n",
        "\n",
        "l = 7 #numero a multiplicar\n",
        "n = 1 #inicio\n",
        "f = 11 #final\n",
        "\n",
        "print(\"The\", f-1, \"Multiples of\", l)\n",
        "for i in range(n,f):\n",
        "  print(\"The multiple in position\",i,i*l)"
      ],
      "metadata": {
        "colab": {
          "base_uri": "https://localhost:8080/"
        },
        "id": "HtnuLi4WzyA-",
        "outputId": "b0cc1e86-c014-4697-95e6-2f2beea0adf5"
      },
      "execution_count": null,
      "outputs": [
        {
          "output_type": "stream",
          "name": "stdout",
          "text": [
            "The 10 Multiples of 7\n",
            "The multiple in position 1 7\n",
            "The multiple in position 2 14\n",
            "The multiple in position 3 21\n",
            "The multiple in position 4 28\n",
            "The multiple in position 5 35\n",
            "The multiple in position 6 42\n",
            "The multiple in position 7 49\n",
            "The multiple in position 8 56\n",
            "The multiple in position 9 63\n",
            "The multiple in position 10 70\n"
          ]
        }
      ]
    },
    {
      "cell_type": "markdown",
      "source": [
        "#**3.Naming**"
      ],
      "metadata": {
        "id": "TdENyURa1y0y"
      }
    },
    {
      "cell_type": "code",
      "source": [
        "# A variable with my name\n",
        "Name = \"Alejandra\"\n",
        "NaMe = \"Alejandra\"\n",
        "NAME = \"Alejandra\"\n",
        "my_name = \"Alejandra\"\n",
        "name = \"Alejandra\"\n",
        "first_name = \"Alejandra\""
      ],
      "metadata": {
        "id": "BKhqOOi017Z6"
      },
      "execution_count": null,
      "outputs": []
    },
    {
      "cell_type": "code",
      "source": [
        "age1 = 15"
      ],
      "metadata": {
        "id": "IDxqc7vV4A0E"
      },
      "execution_count": null,
      "outputs": []
    },
    {
      "cell_type": "code",
      "source": [
        "age_01= 15"
      ],
      "metadata": {
        "id": "ZoY4FDey4FvB"
      },
      "execution_count": null,
      "outputs": []
    },
    {
      "cell_type": "code",
      "source": [
        "## Let´s say i want to create a variable for the price of a cellphone\n",
        "\n",
        "maluma = 100\n",
        "price = 100"
      ],
      "metadata": {
        "id": "e1Pxb2Ff4f_Z"
      },
      "execution_count": null,
      "outputs": []
    },
    {
      "cell_type": "markdown",
      "source": [
        "# **4. Data types**"
      ],
      "metadata": {
        "id": "A3MSJTSq4-4q"
      }
    },
    {
      "cell_type": "markdown",
      "source": [
        "Integers and floats ... ok."
      ],
      "metadata": {
        "id": "Lg6MhQSb5KMb"
      }
    },
    {
      "cell_type": "code",
      "source": [
        "w = 1"
      ],
      "metadata": {
        "id": "mnkUWgHg5-kd"
      },
      "execution_count": null,
      "outputs": []
    },
    {
      "cell_type": "code",
      "source": [
        "w += 3\n",
        "print(w)"
      ],
      "metadata": {
        "colab": {
          "base_uri": "https://localhost:8080/"
        },
        "id": "OMsqYoSa5NgL",
        "outputId": "9a25613a-5493-4e75-a174-fbeadf0f7514"
      },
      "execution_count": null,
      "outputs": [
        {
          "output_type": "stream",
          "name": "stdout",
          "text": [
            "7\n"
          ]
        }
      ]
    },
    {
      "cell_type": "markdown",
      "source": [
        "## **4.1 Booleans**\n",
        "\n",
        "Los unicos valores que tiene es true or false"
      ],
      "metadata": {
        "id": "vQIQ5V566Q4V"
      }
    },
    {
      "cell_type": "code",
      "source": [
        "am_i_alive = False"
      ],
      "metadata": {
        "id": "IAd8yP9D6Wz9"
      },
      "execution_count": null,
      "outputs": []
    },
    {
      "cell_type": "code",
      "source": [
        "print(am_i_alive)\n",
        "print(type(am_i_alive))"
      ],
      "metadata": {
        "colab": {
          "base_uri": "https://localhost:8080/"
        },
        "id": "gXGMydQC6jc9",
        "outputId": "ada6281f-a3c4-4ade-e10d-2a8be87b5528"
      },
      "execution_count": null,
      "outputs": [
        {
          "output_type": "stream",
          "name": "stdout",
          "text": [
            "False\n",
            "<class 'bool'>\n"
          ]
        }
      ]
    },
    {
      "cell_type": "markdown",
      "source": [
        "## **4.2 Boolean expressions**"
      ],
      "metadata": {
        "id": "zbMn5Ggq7B9V"
      }
    },
    {
      "cell_type": "code",
      "source": [
        "x = 2\n",
        "y = 3"
      ],
      "metadata": {
        "id": "RRWNr4Bw7MnH"
      },
      "execution_count": null,
      "outputs": []
    },
    {
      "cell_type": "code",
      "source": [
        "result1 = x <= y\n",
        "print(result1)\n"
      ],
      "metadata": {
        "colab": {
          "base_uri": "https://localhost:8080/"
        },
        "id": "osv5JYw57Pm2",
        "outputId": "4b0a783e-4038-429f-fdd6-3a54eceaf092"
      },
      "execution_count": 8,
      "outputs": [
        {
          "output_type": "stream",
          "name": "stdout",
          "text": [
            "True\n"
          ]
        }
      ]
    },
    {
      "cell_type": "code",
      "source": [
        "result2 = x == y\n",
        "print(result2)"
      ],
      "metadata": {
        "colab": {
          "base_uri": "https://localhost:8080/"
        },
        "id": "FSMMdVeO8K2r",
        "outputId": "a22dbfb5-be53-495f-b14d-5c1b9974ada0"
      },
      "execution_count": null,
      "outputs": [
        {
          "output_type": "stream",
          "name": "stdout",
          "text": [
            "False\n"
          ]
        }
      ]
    },
    {
      "cell_type": "code",
      "source": [
        "result1 + result2"
      ],
      "metadata": {
        "colab": {
          "base_uri": "https://localhost:8080/"
        },
        "id": "b-YTS2488Z_i",
        "outputId": "f3276ee3-dfb3-4bc0-f160-3af468f96514"
      },
      "execution_count": null,
      "outputs": [
        {
          "output_type": "execute_result",
          "data": {
            "text/plain": [
              "1"
            ]
          },
          "metadata": {},
          "execution_count": 64
        }
      ]
    },
    {
      "cell_type": "code",
      "source": [
        "# Practice\n",
        "# Create the necessary code to evaluate the expression\n",
        "# x * y > x + y\n",
        "#for numbers ranging from 1 to 6"
      ],
      "metadata": {
        "id": "yGS5fLcm-SMz"
      },
      "execution_count": null,
      "outputs": []
    },
    {
      "cell_type": "code",
      "source": [
        "x = 1\n",
        "y = 6\n",
        "for x in range(1, 7):\n",
        "    for y in range(1, 7):\n",
        "        if x * y > x + y:\n",
        "            print(f\"{x}*{y} > {x}+{y}\", \"True\")\n",
        "\n",
        "        else:\n",
        "            print(f\"{x}*{y} <= {x}+{y}\", \"False\")"
      ],
      "metadata": {
        "colab": {
          "base_uri": "https://localhost:8080/"
        },
        "id": "GONXrjQk65UV",
        "outputId": "f07c9d78-f00f-4745-f786-86c2595593b0"
      },
      "execution_count": 12,
      "outputs": [
        {
          "output_type": "stream",
          "name": "stdout",
          "text": [
            "1*1 <= 1+1 False\n",
            "1*2 <= 1+2 False\n",
            "1*3 <= 1+3 False\n",
            "1*4 <= 1+4 False\n",
            "1*5 <= 1+5 False\n",
            "1*6 <= 1+6 False\n",
            "2*1 <= 2+1 False\n",
            "2*2 <= 2+2 False\n",
            "2*3 > 2+3 True\n",
            "2*4 > 2+4 True\n",
            "2*5 > 2+5 True\n",
            "2*6 > 2+6 True\n",
            "3*1 <= 3+1 False\n",
            "3*2 > 3+2 True\n",
            "3*3 > 3+3 True\n",
            "3*4 > 3+4 True\n",
            "3*5 > 3+5 True\n",
            "3*6 > 3+6 True\n",
            "4*1 <= 4+1 False\n",
            "4*2 > 4+2 True\n",
            "4*3 > 4+3 True\n",
            "4*4 > 4+4 True\n",
            "4*5 > 4+5 True\n",
            "4*6 > 4+6 True\n",
            "5*1 <= 5+1 False\n",
            "5*2 > 5+2 True\n",
            "5*3 > 5+3 True\n",
            "5*4 > 5+4 True\n",
            "5*5 > 5+5 True\n",
            "5*6 > 5+6 True\n",
            "6*1 <= 6+1 False\n",
            "6*2 > 6+2 True\n",
            "6*3 > 6+3 True\n",
            "6*4 > 6+4 True\n",
            "6*5 > 6+5 True\n",
            "6*6 > 6+6 True\n"
          ]
        }
      ]
    }
  ]
}